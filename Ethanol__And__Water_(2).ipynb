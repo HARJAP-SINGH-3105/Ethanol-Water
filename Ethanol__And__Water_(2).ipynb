{
  "cells": [
    {
      "cell_type": "code",
      "execution_count": 1,
      "id": "eb584221",
      "metadata": {
        "id": "eb584221"
      },
      "outputs": [],
      "source": [
        "import numpy as np\n",
        "from matplotlib import pyplot as plt \n"
      ]
    },
    {
      "cell_type": "code",
      "execution_count": 2,
      "id": "46ebe127",
      "metadata": {
        "id": "46ebe127"
      },
      "outputs": [],
      "source": [
        "# Anotonie's Components for Ethanol\n",
        "A1 = 8.11220\n",
        "B1 = 1592.864\n",
        "C1 = 226.184\n",
        "# Antonie's Components for Water\n",
        "A2= 8.07131\n",
        "B2 =1730.630\n",
        "C2 = 233.426\n",
        "P = 760  # Total Pressure in mmHg\n",
        "# Let Take the parameters of Margules Equation as A12 and A21\n",
        "#From the dataset, given values are taken\n",
        "A12 = 1.6721\n",
        "A21 =0.7462"
      ]
    },
    {
      "cell_type": "markdown",
      "id": "448e3461",
      "metadata": {
        "id": "448e3461"
      },
      "source": [
        "# APPROACH:\n",
        "\n",
        "### Step 1: \n",
        "Start looping x1 (mole fraction of ethanol in liquid phase) from 0.0001 to 1.0000 ,considering upto 4 decimal places.\n",
        "### Step 2:\n",
        "To accurately guess T value, I use Antonie equation and use P as P1_sat to find T1_sat and similarly find T2_sat and then to finally evaluate T_guess , I use the formula :  T1_sat * x1 + T2_sat * x2\n",
        "### Step 3:\n",
        "Find out Activity Coefficients (Y1 and Y2) From Margules Model\n",
        "### Step 4:\n",
        "Evaluate P1_sat and P2_sat using T_guess\n",
        "### Step 5:\n",
        "Use Relation :   P1_sat = (P * P1_sat)/(x1 * Y1 * P1_sat + x2 * Y2 * P2_sat)\n",
        "                 Then use aplha  = P1_sat/P2_sat \n",
        "                 \n",
        "                 So my final relation becomes :\n",
        "                 P1_sat = P/(x1*Y1+ (x2*Y2)/alpha)\n",
        "### Step 6: \n",
        "From P1_sat calculated in step 5 , evaluate T\n",
        "### Step 7:\n",
        "Chech error and repeat the above steps until error is less than 0.01%.\n",
        "                 \n"
      ]
    },
    {
      "cell_type": "code",
      "execution_count": 3,
      "id": "4cf93a36",
      "metadata": {
        "id": "4cf93a36"
      },
      "outputs": [],
      "source": [
        "#  Guessing the value of T\n",
        "x1 =0.0000\n",
        "T_list =[]\n",
        "x_list =[]\n",
        "y_list =[]\n",
        "while (x1<=1) :\n",
        "      x1 = round(x1,4)\n",
        "      x2 = 1.000- x1;\n",
        "      x2 = round(x2,4)\n",
        "      \n",
        "      T1 =  B1/(A1-np.log10(P)) -C1\n",
        "      T2 =  B2/(A2-np.log10(P)) -C2\n",
        "      T_guess = T1*x1 + T2*x2\n",
        "      Y1 =np.exp((A12 + 2*(A21 - A12)*x1)*(x2*x2))\n",
        "      Y2= np.exp((A21 + 2*(A12 - A21)*x2)*(x1*x1)) \n",
        "      error  = 50\n",
        "      T_new = 0\n",
        "      while (error>0.1):\n",
        "\n",
        "          P1_sat_guess = pow(10,(A1- (B1/(T_guess+C1))))\n",
        "          P2_sat_guess =pow(10,(A2- (B2/(T_guess+C2))))\n",
        "          alpha =  P1_sat_guess/ P2_sat_guess\n",
        "          P1_sat_new = P/(x1*Y1+ (x2*Y2)/alpha)\n",
        "          T_new =   B1/(A1-np.log10(P1_sat_new)) -C1\n",
        "          error = (abs((T_new- T_guess))/T_guess)*100\n",
        "          T_guess = T_new\n",
        "            \n",
        "      T_list.append(T_new)\n",
        "      x_list.append(x1)\n",
        "      y1 = (x1*Y1*pow(10,(A1- (B1/(T_new+C1)))))/P\n",
        "      y_list.append(y1)\n",
        "      x1 = x1+0.0001  \n",
        "      \n",
        "        \n",
        "        \n"
      ]
    },
    {
      "cell_type": "code",
      "execution_count": 4,
      "id": "b3162ea4",
      "metadata": {
        "colab": {
          "base_uri": "https://localhost:8080/"
        },
        "id": "b3162ea4",
        "outputId": "0dd030ed-ce7f-4fac-a3da-10605e4e1e03"
      },
      "outputs": [
        {
          "output_type": "stream",
          "name": "stdout",
          "text": [
            "10001\n"
          ]
        }
      ],
      "source": [
        "print(len(x_list))"
      ]
    },
    {
      "cell_type": "code",
      "execution_count": 5,
      "id": "47bd887c",
      "metadata": {
        "colab": {
          "base_uri": "https://localhost:8080/"
        },
        "id": "47bd887c",
        "outputId": "c0d93cee-a973-49b2-deed-4b1a02667b57"
      },
      "outputs": [
        {
          "output_type": "stream",
          "name": "stdout",
          "text": [
            "10001\n"
          ]
        }
      ],
      "source": [
        "print(len(y_list))"
      ]
    },
    {
      "cell_type": "code",
      "execution_count": 6,
      "id": "328944f4",
      "metadata": {
        "colab": {
          "base_uri": "https://localhost:8080/"
        },
        "id": "328944f4",
        "outputId": "a0800d6d-62c1-4103-a48d-5afad599eba0"
      },
      "outputs": [
        {
          "output_type": "stream",
          "name": "stdout",
          "text": [
            "10001\n"
          ]
        }
      ],
      "source": [
        "print(len(T_list)) "
      ]
    },
    {
      "cell_type": "code",
      "execution_count": 7,
      "id": "4e23adff",
      "metadata": {
        "colab": {
          "base_uri": "https://localhost:8080/",
          "height": 384
        },
        "id": "4e23adff",
        "outputId": "13a38247-4463-4c16-b3e4-cc3b7f16692e"
      },
      "outputs": [
        {
          "output_type": "execute_result",
          "data": {
            "text/plain": [
              "Text(0.5, 1.0, 'T v/s x,y')"
            ]
          },
          "metadata": {},
          "execution_count": 7
        },
        {
          "output_type": "display_data",
          "data": {
            "text/plain": [
              "<Figure size 432x288 with 1 Axes>"
            ],
            "image/png": "[encoded data removed]"
          },
          "metadata": {
            "needs_background": "light"
          }
        }
      ],
      "source": [
        "# PLotting the Graph\n",
        "# Create Figure (empty canvas)\n",
        "fig = plt.figure()\n",
        "\n",
        "# Add set of axes to figure\n",
        "axes = fig.add_axes([0,0.5 ,1, 1]) # left, bottom, width, height (range 0 to 1)\n",
        "\n",
        "# Plot on that set of axes\n",
        "axes.plot(x_list,T_list, 'b--',label = \"x1\")\n",
        "axes.plot(y_list,T_list, 'r--',label = \"y1\")\n",
        "axes.set_xlabel('mole fraction of ethanol')\n",
        "axes.set_ylabel('Temperature in degree C')\n",
        "axes.legend()\n",
        "axes.set_title('T v/s x,y')"
      ]
    },
    {
      "cell_type": "code",
      "execution_count": 8,
      "id": "d2582024",
      "metadata": {
        "colab": {
          "base_uri": "https://localhost:8080/",
          "height": 384
        },
        "id": "d2582024",
        "outputId": "7635d264-d242-4e18-ff81-008fa0888765"
      },
      "outputs": [
        {
          "output_type": "execute_result",
          "data": {
            "text/plain": [
              "Text(0.5, 1.0, 'y v/s x')"
            ]
          },
          "metadata": {},
          "execution_count": 8
        },
        {
          "output_type": "display_data",
          "data": {
            "text/plain": [
              "<Figure size 432x288 with 1 Axes>"
            ],
            "image/png": "[encoded data removed]"
          },
          "metadata": {
            "needs_background": "light"
          }
        }
      ],
      "source": [
        "z=x_list.copy()\n",
        "fig = plt.figure()\n",
        "\n",
        "axes = fig.add_axes([0,0.5 ,1, 1]) \n",
        "\n",
        "# Plot on that set of axes\n",
        "axes.plot(z,x_list, 'y',label = \"y=x\")\n",
        "axes.plot(y_list,x_list, 'g')\n",
        "axes.set_xlabel('mole fraction of ethanol in liquid phase') # Notice the use of set_ to begin methods\n",
        "axes.set_ylabel('mole fraction of ethanol in vapour phase')\n",
        "axes.legend()\n",
        "axes.set_title('y v/s x')"
      ]
    },
    {
      "cell_type": "markdown",
      "id": "9e957654",
      "metadata": {
        "id": "9e957654"
      },
      "source": [
        "## Observation:\n",
        "### From the above T vs x1,y1 graph and x1 vs y1 graph ,we can easliy observed that as soon as x1 reaches 0.95 , x1 and y1 both graph start to coincide at nearly at T ~ 78 degree C.This indicates the formation of *Azeotrope* .\n",
        "### As the bpoiling point of both water and ethanol is more than this Temperature , so it would be *minimum Boiling Point Azeotrope*\n"
      ]
    },
    {
      "cell_type": "code",
      "execution_count": 9,
      "id": "f219810b",
      "metadata": {
        "id": "f219810b"
      },
      "outputs": [],
      "source": [
        "# Enlisting down the Experiment Data \n",
        "X= [0.0044,0.0110,0.0340,0.0680,0.0770,0.1160,0.1350,0.1470,0.1770,0.1780,0.2070,0.2330,0.2360,0.2700,0.2870,0.3610,0.3700,0.4800,0.9040]\n",
        "Y= [0.0510,0.1230,0.2610,0.3830,0.4110,0.4640,0.4760,0.4990,0.5160,0.5190,0.5360,0.5440,0.5410,0.5620,0.5720,0.6050,0.6010,0.6450,0.9000]\n",
        "T= [98.93,97.05,92.30,88.32,87.47,85.49,84.75,84.34,83.47,83.42,82.94,82.50,82.56,81.99,81.84,80.90,80.92,79.91,76.15]"
      ]
    },
    {
      "cell_type": "code",
      "execution_count": 10,
      "id": "afa67e5d",
      "metadata": {
        "colab": {
          "base_uri": "https://localhost:8080/",
          "height": 313
        },
        "id": "afa67e5d",
        "outputId": "eaf94ad2-2211-4345-8425-bd05fb51aa88"
      },
      "outputs": [
        {
          "output_type": "execute_result",
          "data": {
            "text/plain": [
              "Text(0.5, 1.0, 'Experimental Data v/s Margules Model')"
            ]
          },
          "metadata": {},
          "execution_count": 10
        },
        {
          "output_type": "display_data",
          "data": {
            "text/plain": [
              "<Figure size 864x288 with 3 Axes>"
            ],
            "image/png": "[encoded data removed]"
          },
          "metadata": {
            "needs_background": "light"
          }
        }
      ],
      "source": [
        "# PLoting the Graphs\n",
        "fig, axes = plt.subplots(1, 3, figsize=(12, 4))\n",
        "\n",
        "\n",
        "\n",
        "axes[0].plot(x_list,T_list, 'b--',label = \"x1\")\n",
        "axes[0].plot(y_list,T_list, 'r--',label = \"y1\")\n",
        "axes[0].set_xlabel('mole fraction of ethanol') # Notice the use of set_ to begin methods\n",
        "axes[0].set_ylabel('Temperature in degree C')\n",
        "axes[0].legend()\n",
        "axes[0].set_title('Using Margules Model')\n",
        "\n",
        "\n",
        "axes[1].plot(X,T, 'b--',label = \"x1\")\n",
        "axes[1].plot(Y,T, 'r--',label = \"y1\")\n",
        "axes[1].set_xlabel('mole fraction of ethanol') # Notice the use of set_ to begin methods\n",
        "axes[1].set_ylabel('Temperature in degree C')\n",
        "axes[1].legend()\n",
        "axes[1].set_title('Experimental Data')\n",
        "\n",
        "\n",
        "axes[2].plot(X,T, 'b--',label = \"x1_experiment\")\n",
        "axes[2].plot(Y,T, 'r--',label = \"y1_experiment\")\n",
        "axes[2].plot(x_list,T_list, 'b',label = \"x1_Margule\")\n",
        "axes[2].plot(y_list,T_list, 'r',label = \"y1_Margule\")\n",
        "axes[2].set_xlabel('mole fraction of ethanol') # Notice the use of set_ to begin methods\n",
        "axes[2].set_ylabel('Temperature in degree C')\n",
        "axes[2].legend()\n",
        "axes[2].set_title('Experimental Data v/s Margules Model')\n",
        "\n",
        "\n",
        "\n"
      ]
    },
    {
      "cell_type": "markdown",
      "id": "ff116bcf",
      "metadata": {
        "id": "ff116bcf"
      },
      "source": [
        "### Here I determine the error % in the experiment T,y1 and Margules T,y1 by fixing the x1."
      ]
    },
    {
      "cell_type": "code",
      "execution_count": 11,
      "id": "9b9166ed",
      "metadata": {
        "id": "9b9166ed"
      },
      "outputs": [],
      "source": [
        "# Error in T ,y by assuming x\n",
        "T_error=[]\n",
        "y_error =[]\n",
        "for i in range(len(X)):\n",
        "    val =  x_list.index(X[i])\n",
        "    error_percentage_T = abs(T_list[val] -T[i])*100/T[i]\n",
        "    T_error.append(error_percentage_T)\n",
        "    error_percentage_y = abs(y_list[val] -Y[i])*100/Y[i]\n",
        "    y_error.append(error_percentage_y)\n",
        "    "
      ]
    },
    {
      "cell_type": "code",
      "execution_count": 12,
      "id": "6d2ce097",
      "metadata": {
        "colab": {
          "base_uri": "https://localhost:8080/"
        },
        "id": "6d2ce097",
        "outputId": "88abf465-d195-4cba-9a01-f7047d833536"
      },
      "outputs": [
        {
          "output_type": "stream",
          "name": "stdout",
          "text": [
            "4.252544228937651%\n",
            "9.559599929082605%\n",
            "0.3115077418052706%\n",
            "0.49136826063683614%\n",
            "1.004913176286469%\n",
            "2.255781940246677%\n",
            "4.3531235626856395%\n",
            "1.8873213960556543%\n",
            "3.0699557085116074%\n",
            "2.6024520035944514%\n",
            "2.500264271462771%\n",
            "3.213846863571579%\n",
            "4.017914723700675%\n",
            "2.3925974821625324%\n",
            "1.5763666017317084%\n",
            "0.4298179180573876%\n",
            "0.6472939686223657%\n",
            "1.0669293401860875%\n",
            "1.1603334768451878%\n"
          ]
        }
      ],
      "source": [
        "\n",
        "for y in y_error:\n",
        "    print(f\"{y}%\")\n",
        "    "
      ]
    },
    {
      "cell_type": "code",
      "execution_count": 13,
      "id": "fd0fd762",
      "metadata": {
        "colab": {
          "base_uri": "https://localhost:8080/"
        },
        "id": "fd0fd762",
        "outputId": "5a830014-4948-45ee-8f92-83f56c1c3e85"
      },
      "outputs": [
        {
          "output_type": "stream",
          "name": "stdout",
          "text": [
            "0.2037930513702768%\n",
            "0.017352499768844107%\n",
            "0.3033602073835222%\n",
            "0.1998128215875111%\n",
            "0.28892789971798905%\n",
            "0.2526140268785914%\n",
            "0.3495220295540925%\n",
            "0.37584698651340875%\n",
            "0.36127615327240403%\n",
            "0.3303335280777413%\n",
            "0.4773127690509416%\n",
            "0.44889371154633384%\n",
            "0.5721629959275317%\n",
            "0.3848563019386298%\n",
            "0.41275615348511857%\n",
            "0.006140070565379011%\n",
            "0.09552300714416542%\n",
            "0.3046122816689576%\n",
            "3.057471420660547%\n"
          ]
        }
      ],
      "source": [
        "for T in T_error:\n",
        "    print(f\"{T}%\")"
      ]
    },
    {
      "cell_type": "code",
      "execution_count": null,
      "id": "0d3cb12f",
      "metadata": {
        "id": "0d3cb12f"
      },
      "outputs": [],
      "source": [
        ""
      ]
    },
    {
      "cell_type": "code",
      "execution_count": null,
      "id": "bcd79f21",
      "metadata": {
        "id": "bcd79f21"
      },
      "outputs": [],
      "source": [
        ""
      ]
    }
  ],
  "metadata": {
    "kernelspec": {
      "display_name": "Python 3",
      "language": "python",
      "name": "python3"
    },
    "language_info": {
      "codemirror_mode": {
        "name": "ipython",
        "version": 3
      },
      "file_extension": ".py",
      "mimetype": "text/x-python",
      "name": "python",
      "nbconvert_exporter": "python",
      "pygments_lexer": "ipython3",
      "version": "3.8.8"
    },
    "colab": {
      "name": "Ethanol _And _Water (2).ipynb",
      "provenance": []
    }
  },
  "nbformat": 4,
  "nbformat_minor": 5
}